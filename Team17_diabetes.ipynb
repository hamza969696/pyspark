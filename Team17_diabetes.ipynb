{
  "nbformat": 4,
  "nbformat_minor": 0,
  "metadata": {
    "colab": {
      "provenance": []
    },
    "kernelspec": {
      "name": "python3",
      "display_name": "Python 3"
    },
    "language_info": {
      "name": "python"
    }
  },
  "cells": [
    {
      "cell_type": "code",
      "execution_count": 10,
      "metadata": {
        "id": "vr4IH33uPr1M"
      },
      "outputs": [],
      "source": [
        "# spark\n",
        "# !pip install pyspark\n",
        "# !pip install findspark\n",
        "import findspark\n",
        "findspark.init()\n",
        "from pyspark.sql import SparkSession\n",
        "spark = SparkSession.builder.master('local[*]').appName('Basics').getOrCreate()\n",
        "spark.conf.set(\"spark.sql.repl.eagerEval.enabled\", True) # Property used to format output tables better\n",
        "\n",
        "#Creating spark context-Its like connecting to spark cluster\n",
        "from pyspark import SparkConf \n",
        "from pyspark.context import SparkContext\n",
        "from pyspark.sql.functions import *\n",
        "import pandas as pd\n",
        "import numpy as np \n",
        "\n",
        "sc = SparkContext.getOrCreate(SparkConf().setMaster(\"local[*]\"))"
      ]
    },
    {
      "cell_type": "code",
      "source": [
        "# Task1\n",
        "from pyspark.sql.types import IntegerType,BooleanType,DateType\n",
        "spark=SparkSession.builder.appName('idt').getOrCreate()\n",
        "df = spark.read.csv('diabetes.csv',header=True)\n",
        "df = df.withColumn(\"value\",df.value.cast(IntegerType()))\n",
        "# create a df for timestamp\n",
        "\n",
        "\n",
        "split_col = split(df['time'], ':')\n",
        "df_t = df.withColumn('hour', split_col.getItem(0)).withColumn('minute', split_col.getItem(1))\n",
        "df_t = df_t.withColumn(\"hour\",df_t.hour.cast(IntegerType()))\n",
        "df_t.show(truncate=False)\n",
        "# filter people who have strong exercise in afternoon, calculate their average bg after dinner\n",
        "df_t_se = df_t.filter(((df_t['code']=='70')|(df_t['code']=='69')|(df_t['code']=='68'))&((df_t['hour']>=12)&(df_t['hour']<=18)))\n",
        "\n",
        "\n",
        "# merge index and date\n",
        "from pyspark.sql.functions import concat_ws,col\n",
        "df_t_se_2=df_t_se.select(concat_ws('',df_t_se.index,df_t_se.date).alias(\"indexDate\"),\"time\",\"code\",\"hour\", 'minute','value')\n",
        "\n",
        "\n",
        "df_t_2 = df_t.select(concat_ws('',df_t.index,df_t.date).alias(\"indexDate\"),\"time\",\"code\",\"hour\", 'minute','value')\n",
        "\n",
        "\n",
        "# conditions\n",
        "indexes=df_t_se_2.rdd.map(lambda x: x[0]).collect()\n",
        "\n",
        "\n",
        "# bg after dinner & have strong exercise in afternoon\n",
        "df_se_bg = df_t_2.filter((df_t_2.indexDate.isin(indexes))&(df_t_2['code']=='63'))\n",
        "\n",
        "\n",
        "# average post dinner bg values for df_se_bg\n",
        "from pyspark.sql.functions import avg\n",
        "avg_ex = df_se_bg.select(avg('value'))\n",
        "avg_ex = avg_ex.withColumnRenamed('avg(value)', 'avg_with_exercise')\n",
        "avg_ex.show()\n",
        "\n",
        "\n",
        "# average post dinner bg values for everyone\n",
        "df_afdbg = df.filter((df['code']=='63'))\n",
        "avg_no_ex = df_afdbg.select(avg('value'))\n",
        "avg_no_ex = avg_no_ex.withColumnRenamed('avg(value)', 'avg_no_exercise')\n",
        "avg_no_ex.show()\n"
      ],
      "metadata": {
        "id": "AVIWsNIS8Txk",
        "colab": {
          "base_uri": "https://localhost:8080/"
        },
        "outputId": "57eebbca-84d4-4780-f9f8-13dda623855b"
      },
      "execution_count": 11,
      "outputs": [
        {
          "output_type": "stream",
          "name": "stdout",
          "text": [
            "+-----+----------+-----+----+-----+----+---------------------------+------+--------------+----------------+-----------+---------------+---------------+-------------+---------------------------+------------+-------+----------+----+------+\n",
            "|index|date      |time |code|value|Name|D_O_B                      |Gender|Phone_Number  |Type_of_diabetes|hba1c      |Time_of_reading|glucose_reading|carb_counting|days_of_excercise_in_a_week|carbs_intake|alcohol|cigarettes|hour|minute|\n",
            "+-----+----------+-----+----+-----+----+---------------------------+------+--------------+----------------+-----------+---------------+---------------+-------------+---------------------------+------------+-------+----------+----+------+\n",
            "|1    |04-21-1991|9:09 |58  |100  |1   |Tuesday, September 30, 1197|Female|6-887-057-5123|2               |9.440355992|10:50 AM       |484            |1            |4                          |364.9345547 |1.0    |1         |9   |09    |\n",
            "|1    |04-21-1991|9:09 |33  |9    |2   |Tuesday, September 30, 1197|Female|6-887-057-5123|2               |9.440355992|10:50 AM       |484            |1            |4                          |364.9345547 |1.0    |1         |9   |09    |\n",
            "|1    |04-21-1991|9:09 |34  |13   |3   |Tuesday, September 30, 1197|Female|6-887-057-5123|2               |9.440355992|10:50 AM       |484            |1            |4                          |364.9345547 |1.0    |1         |9   |09    |\n",
            "|1    |04-21-1991|17:08|62  |119  |4   |Tuesday, September 30, 1197|Female|6-887-057-5123|2               |9.440355992|10:50 AM       |484            |1            |4                          |364.9345547 |1.0    |1         |17  |08    |\n",
            "|1    |04-21-1991|17:08|33  |7    |5   |Tuesday, September 30, 1197|Female|6-887-057-5123|2               |9.440355992|10:50 AM       |484            |1            |4                          |364.9345547 |1.0    |1         |17  |08    |\n",
            "|1    |04-21-1991|22:51|48  |123  |6   |Tuesday, September 30, 1197|Female|6-887-057-5123|2               |9.440355992|10:50 AM       |484            |1            |4                          |364.9345547 |1.0    |1         |22  |51    |\n",
            "|1    |04-22-1991|7:35 |58  |216  |7   |Tuesday, September 30, 1197|Female|6-887-057-5123|2               |9.440355992|10:50 AM       |484            |1            |4                          |364.9345547 |1.0    |1         |7   |35    |\n",
            "|1    |04-22-1991|7:35 |33  |10   |8   |Tuesday, September 30, 1197|Female|6-887-057-5123|2               |9.440355992|10:50 AM       |484            |1            |4                          |364.9345547 |1.0    |1         |7   |35    |\n",
            "|1    |04-22-1991|7:35 |34  |13   |9   |Tuesday, September 30, 1197|Female|6-887-057-5123|2               |9.440355992|10:50 AM       |484            |1            |4                          |364.9345547 |1.0    |1         |7   |35    |\n",
            "|1    |04-22-1991|13:40|33  |2    |10  |Tuesday, September 30, 1197|Female|6-887-057-5123|2               |9.440355992|10:50 AM       |484            |1            |4                          |364.9345547 |1.0    |1         |13  |40    |\n",
            "|1    |04-22-1991|16:56|62  |211  |11  |Tuesday, September 30, 1197|Female|6-887-057-5123|2               |9.440355992|10:50 AM       |484            |1            |4                          |364.9345547 |1.0    |1         |16  |56    |\n",
            "|1    |04-22-1991|16:56|33  |7    |12  |Tuesday, September 30, 1197|Female|6-887-057-5123|2               |9.440355992|10:50 AM       |484            |1            |4                          |364.9345547 |1.0    |1         |16  |56    |\n",
            "|1    |04-23-1991|7:25 |58  |257  |13  |Tuesday, September 30, 1197|Female|6-887-057-5123|2               |9.440355992|10:50 AM       |484            |1            |4                          |364.9345547 |1.0    |1         |7   |25    |\n",
            "|1    |04-23-1991|7:25 |33  |11   |14  |Tuesday, September 30, 1197|Female|6-887-057-5123|2               |9.440355992|10:50 AM       |484            |1            |4                          |364.9345547 |1.0    |1         |7   |25    |\n",
            "|1    |04-23-1991|7:25 |34  |13   |15  |Tuesday, September 30, 1197|Female|6-887-057-5123|2               |9.440355992|10:50 AM       |484            |1            |4                          |364.9345547 |1.0    |1         |7   |25    |\n",
            "|1    |04-23-1991|17:25|62  |129  |16  |Tuesday, September 30, 1197|Female|6-887-057-5123|2               |9.440355992|10:50 AM       |484            |1            |4                          |364.9345547 |1.0    |1         |17  |25    |\n",
            "|1    |04-23-1991|17:25|33  |7    |17  |Tuesday, September 30, 1197|Female|6-887-057-5123|2               |9.440355992|10:50 AM       |484            |1            |4                          |364.9345547 |1.0    |1         |17  |25    |\n",
            "|1    |04-24-1991|7:52 |58  |239  |18  |Tuesday, September 30, 1197|Female|6-887-057-5123|2               |9.440355992|10:50 AM       |484            |1            |4                          |364.9345547 |1.0    |1         |7   |52    |\n",
            "|1    |04-24-1991|7:52 |33  |10   |19  |Tuesday, September 30, 1197|Female|6-887-057-5123|2               |9.440355992|10:50 AM       |484            |1            |4                          |364.9345547 |1.0    |1         |7   |52    |\n",
            "|1    |04-24-1991|7:52 |34  |14   |20  |Tuesday, September 30, 1197|Female|6-887-057-5123|2               |9.440355992|10:50 AM       |484            |1            |4                          |364.9345547 |1.0    |1         |7   |52    |\n",
            "+-----+----------+-----+----+-----+----+---------------------------+------+--------------+----------------+-----------+---------------+---------------+-------------+---------------------------+------------+-------+----------+----+------+\n",
            "only showing top 20 rows\n",
            "\n",
            "+-----------------+\n",
            "|avg_with_exercise|\n",
            "+-----------------+\n",
            "|           310.25|\n",
            "+-----------------+\n",
            "\n",
            "+------------------+\n",
            "|   avg_no_exercise|\n",
            "+------------------+\n",
            "|186.15068493150685|\n",
            "+------------------+\n",
            "\n"
          ]
        }
      ]
    },
    {
      "cell_type": "code",
      "source": [
        "# Task 2\n",
        "import numpy as np\n",
        "rdd = spark.read.csv(\"diabetes.csv\", header=True, inferSchema = True)\n",
        "\n",
        "## Transform value from string to integer\n",
        "from pyspark.sql.functions import col\n",
        "rdd_1 = rdd.withColumn(colName = \"value\", col = col(\"value\").cast(\"Integer\"))\n",
        "\n",
        "#Pre-meal blood glucose measurement\n",
        "rdd_2 = rdd_1.filter(\"code == 58 or code == 60 or code == 62\")\n",
        "# rdd_2.show()\n",
        "\n",
        "rdd_3 = rdd_2.groupBy(\"index\").avg(\"value\")\n",
        "# rdd_3.show()\n",
        "\n",
        "#Post-meal blood glucose measurement\n",
        "rdd_4 = rdd_1.filter(\"code == 59 or code == 61 or code == 63\")\n",
        "# rdd_4.show()\n",
        "\n",
        "rdd_5 = rdd_4.groupBy(\"index\").avg(\"value\")\n",
        "# rdd_5.show()\n",
        "\n",
        "##Comparison between pre and post\n",
        "rdd_6 = rdd_3.union(rdd_5)\n",
        "rdd_7 = rdd_6.rdd.groupByKey().mapValues(list)\n",
        "# rdd_7\n",
        "\n",
        "outcome = rdd_7.collect()\n",
        "num = 0\n",
        "diff = []\n",
        "direction = []\n",
        "for (ind, result) in outcome:\n",
        "  if len(result)>1:\n",
        "    num+=1\n",
        "    direction.append(result[1]>result[0])\n",
        "    diff.append((result[1]-result[0])/result[1])\n",
        "print(diff)"
      ],
      "metadata": {
        "id": "vexpuSY8eiYm",
        "outputId": "fb39e5d0-91c4-4b55-89e2-86502c297faf",
        "colab": {
          "base_uri": "https://localhost:8080/"
        }
      },
      "execution_count": 17,
      "outputs": [
        {
          "output_type": "stream",
          "name": "stdout",
          "text": [
            "[0.38280060882800615, 0.10064072511329888, 0.23204799248310504, 0.12285836229498198, 0.18006612104171946, 0.31424429140993115, 0.006577710956587196, -1.1322970811675332, 0.5865952032916464, 0.09150103188354615, 0.2814737814737815, 0.3917842791335882, 0.19274761186525896, 0.3576113111995344, 0.024603174603174557, -0.2291605215031561, 0.003165140870058793, 0.35328575676479335, 0.44261763115197406, 0.2938205386076657, 0.12901155327342742, -0.2917306052855924, 0.060987170164138745, 0.04216155361666202, 0.23355668721522377, 0.09395018984060081, 0.3188992310805341, 0.43473673103302735, 0.21994404309516857, 0.08287842658100635, 0.40379629629629626, 0.3149823248076523, -2.7258880228476228]\n"
          ]
        }
      ]
    },
    {
      "cell_type": "code",
      "source": [
        "# Task 3\n",
        "\n",
        "# Read data\n",
        "rdd = spark.read.csv(\"diabetes.csv\", header=True, inferSchema = True)\n",
        "\n",
        "#\n",
        "rdd_1 = rdd.withColumn(colName = \"value\", col = col(\"value\").cast(\"Integer\"))\n",
        "rdd_2 = rdd_1.select([\"index\", \"code\", \"value\", \"Gender\"])\n",
        "rdd_3 = rdd_2.filter(\"code == 48 or code == 57 or code == 58 or code ==59 or code ==60 or code ==61 or code ==62 or code ==63 or code ==64\")\n",
        "rdd_4 = rdd_3.groupBy(\"Gender\").avg(\"value\")\n",
        "rdd_4.show()\n"
      ],
      "metadata": {
        "id": "pEfdry8LVddF",
        "colab": {
          "base_uri": "https://localhost:8080/"
        },
        "outputId": "f55f26da-5815-4a92-b60a-f647595ff9d2"
      },
      "execution_count": 18,
      "outputs": [
        {
          "output_type": "stream",
          "name": "stdout",
          "text": [
            "+------+------------------+\n",
            "|Gender|        avg(value)|\n",
            "+------+------------------+\n",
            "|Female|160.15859798605732|\n",
            "|  Male| 160.3111616222036|\n",
            "+------+------------------+\n",
            "\n"
          ]
        }
      ]
    },
    {
      "cell_type": "code",
      "source": [],
      "metadata": {
        "id": "8yDSCQACD9tN"
      },
      "execution_count": null,
      "outputs": []
    }
  ]
}